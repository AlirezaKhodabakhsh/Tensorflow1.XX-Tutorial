{
  "nbformat": 4,
  "nbformat_minor": 5,
  "metadata": {
    "kernelspec": {
      "display_name": "Python 3",
      "language": "python",
      "name": "python3"
    },
    "language_info": {
      "codemirror_mode": {
        "name": "ipython",
        "version": 3
      },
      "file_extension": ".py",
      "mimetype": "text/x-python",
      "name": "python",
      "nbconvert_exporter": "python",
      "pygments_lexer": "ipython3",
      "version": "3.8.5"
    },
    "colab": {
      "name": "Tensorflow 1.XX Toturial Example.ipynb",
      "provenance": [],
      "collapsed_sections": [],
      "include_colab_link": true
    }
  },
  "cells": [
    {
      "cell_type": "markdown",
      "metadata": {
        "id": "view-in-github",
        "colab_type": "text"
      },
      "source": [
        "<a href=\"https://colab.research.google.com/github/alirezakhodabakhsh/Tensorflow1.XX-Tutorial/blob/main/Tensorflow_1_XX_Toturial_Example.ipynb\" target=\"_parent\"><img src=\"https://colab.research.google.com/assets/colab-badge.svg\" alt=\"Open In Colab\"/></a>"
      ]
    },
    {
      "cell_type": "markdown",
      "metadata": {
        "id": "SIyXY-mPkQdo"
      },
      "source": [
        "# ===================================================================\n",
        "# **TENSORFLOW 1.XX  TOTURIAL - Example**\n",
        "* This notebook implement MLP network on MNIST datasets!\n",
        "* Written by **Alireza Khodabakhsh**\n",
        "* alireza.khodabakhsh@ee.sharif.edu\n",
        "* Aban 1400, October 2021\n",
        "# ==================================================================="
      ],
      "id": "SIyXY-mPkQdo"
    },
    {
      "cell_type": "markdown",
      "metadata": {
        "id": "NoM644-PlTLM"
      },
      "source": [
        "# 1. import library"
      ],
      "id": "NoM644-PlTLM"
    },
    {
      "cell_type": "code",
      "metadata": {
        "id": "27bc5e71",
        "colab": {
          "base_uri": "https://localhost:8080/"
        },
        "outputId": "dec44fff-1bb1-4593-f23e-b75e37ac25f8"
      },
      "source": [
        "import tensorflow as tf\n",
        "import tensorflow.compat.v1 as tf\n",
        "tf.disable_v2_behavior()\n",
        "import math\n",
        "import matplotlib.pyplot as plt\n",
        "import numpy as np"
      ],
      "id": "27bc5e71",
      "execution_count": 1,
      "outputs": [
        {
          "output_type": "stream",
          "name": "stdout",
          "text": [
            "WARNING:tensorflow:From /usr/local/lib/python3.7/dist-packages/tensorflow/python/compat/v2_compat.py:111: disable_resource_variables (from tensorflow.python.ops.variable_scope) is deprecated and will be removed in a future version.\n",
            "Instructions for updating:\n",
            "non-resource variables are not supported in the long term\n"
          ]
        }
      ]
    },
    {
      "cell_type": "markdown",
      "metadata": {
        "id": "wbmjJjCMlZ7F"
      },
      "source": [
        "# 2. import Dataset"
      ],
      "id": "wbmjJjCMlZ7F"
    },
    {
      "cell_type": "code",
      "metadata": {
        "id": "54e3dd93"
      },
      "source": [
        "from tensorflow.keras.datasets import mnist\n",
        "(x_train, y_train), (x_test, y_test)=mnist.load_data()"
      ],
      "id": "54e3dd93",
      "execution_count": 2,
      "outputs": []
    },
    {
      "cell_type": "markdown",
      "metadata": {
        "id": "nVZ6z-e2le9W"
      },
      "source": [
        "# 3. Train/Test/Valid & One Hot"
      ],
      "id": "nVZ6z-e2le9W"
    },
    {
      "cell_type": "code",
      "metadata": {
        "id": "07d96546"
      },
      "source": [
        "num_test=x_test.shape[0]\n",
        "num_valid=int(0.3*x_train.shape[0])\n",
        "num_train=x_train.shape[0]-num_valid\n",
        "\n",
        "x_valid=x_train[num_train:]\n",
        "y_valid=y_train[num_train:]\n",
        "\n",
        "x_train=x_train[0:num_train]\n",
        "y_train=y_train[0:num_train]\n",
        "\n",
        "y_train_hot=tf.Session().run(tf.one_hot(y_train,10))\n",
        "y_valid_hot=tf.Session().run(tf.one_hot(y_valid,10))\n",
        "y_test_hot=tf.Session().run(tf.one_hot(y_test,10))\n",
        "tf.Session().close()"
      ],
      "id": "07d96546",
      "execution_count": 3,
      "outputs": []
    },
    {
      "cell_type": "markdown",
      "metadata": {
        "id": "1IvPKPZKlqG3"
      },
      "source": [
        "# 4. Shuffle"
      ],
      "id": "1IvPKPZKlqG3"
    },
    {
      "cell_type": "code",
      "metadata": {
        "id": "397d3090"
      },
      "source": [
        "x_train_shaffle=tf.Session().run(tf.random.shuffle(x_train, seed=12321 ))\n",
        "y_train_shaffle=tf.Session().run(tf.random.shuffle(y_train_hot, seed=12321))"
      ],
      "id": "397d3090",
      "execution_count": 4,
      "outputs": []
    },
    {
      "cell_type": "markdown",
      "metadata": {
        "id": "8pq2utgllvOH"
      },
      "source": [
        "# 5. HyperParameters"
      ],
      "id": "8pq2utgllvOH"
    },
    {
      "cell_type": "code",
      "metadata": {
        "id": "0f25ec91"
      },
      "source": [
        "[height,weight]=x_train.shape[1:]\n",
        "num_class=10\n",
        "rl=0.001\n",
        "batchsize=128\n",
        "normal_std=0.001\n",
        "hidden_num=256\n",
        "num_epoch=20"
      ],
      "id": "0f25ec91",
      "execution_count": 5,
      "outputs": []
    },
    {
      "cell_type": "markdown",
      "metadata": {
        "id": "f1bjOVazl4LH"
      },
      "source": [
        "# 6. Functions that we'll need"
      ],
      "id": "f1bjOVazl4LH"
    },
    {
      "cell_type": "code",
      "metadata": {
        "id": "534d2811"
      },
      "source": [
        "def WEIGHTS(shape, name) :\n",
        "    return tf.get_variable(dtype=tf.float32, shape=shape,name='W_'+name,\n",
        "                  initializer=tf.truncated_normal_initializer(stddev=0.001))"
      ],
      "id": "534d2811",
      "execution_count": 6,
      "outputs": []
    },
    {
      "cell_type": "code",
      "metadata": {
        "id": "3cf93efe"
      },
      "source": [
        "def BIAS (shape, name):\n",
        "    return tf.get_variable(dtype=tf.float32, shape=(shape) , name='B_'+name,\n",
        "                  initializer=tf.zeros_initializer())"
      ],
      "id": "3cf93efe",
      "execution_count": 7,
      "outputs": []
    },
    {
      "cell_type": "code",
      "metadata": {
        "id": "1e7ba6bf"
      },
      "source": [
        "def FC(X, num_units, name, relu=False):\n",
        "    in_dim=X.get_shape()[1]\n",
        "    W=WEIGHTS((in_dim, num_units), name)\n",
        "    B=BIAS ((num_units), name)\n",
        "    H=tf.matmul(X,W)\n",
        "    O=tf.add(H,B)\n",
        "    if relu==True:\n",
        "        return tf.nn.relu(O)\n",
        "    return O"
      ],
      "id": "1e7ba6bf",
      "execution_count": 8,
      "outputs": []
    },
    {
      "cell_type": "code",
      "metadata": {
        "id": "EB44m-0iS3CB"
      },
      "source": [
        ""
      ],
      "id": "EB44m-0iS3CB",
      "execution_count": 8,
      "outputs": []
    },
    {
      "cell_type": "markdown",
      "metadata": {
        "id": "2w3OXWaYmDVm"
      },
      "source": [
        "# 7. Neural Network ( Graph Phase )"
      ],
      "id": "2w3OXWaYmDVm"
    },
    {
      "cell_type": "code",
      "metadata": {
        "id": "5289569e",
        "colab": {
          "base_uri": "https://localhost:8080/"
        },
        "outputId": "8fc0e284-66a9-4b30-9616-6c7f7cd876c1"
      },
      "source": [
        "tf.reset_default_graph()\n",
        "\n",
        "input_image=tf.placeholder(dtype=tf.float32, shape=(None, weight, height),\n",
        "                           name='INPUT')\n",
        "\n",
        "#input_image_norm=tf.image.per_image_standardization(input_image)\n",
        "\n",
        "x_flatten=tf.layers.flatten(input_image)\n",
        "\n",
        "FC1=FC(x_flatten, hidden_num, 'FC1', relu=True)\n",
        "\n",
        "H2=FC(FC1, 10, 'FC2', relu=False)\n",
        "\n",
        "\n",
        "output_image=tf.placeholder(dtype=tf.float32, shape=(None, num_class),\n",
        "                            name='OUTPUT')"
      ],
      "id": "5289569e",
      "execution_count": 9,
      "outputs": [
        {
          "output_type": "stream",
          "name": "stderr",
          "text": [
            "/usr/local/lib/python3.7/dist-packages/ipykernel_launcher.py:8: UserWarning: `tf.layers.flatten` is deprecated and will be removed in a future version. Please use `tf.keras.layers.Flatten` instead.\n",
            "  \n",
            "/usr/local/lib/python3.7/dist-packages/keras/legacy_tf_layers/core.py:523: UserWarning: `layer.apply` is deprecated and will be removed in a future version. Please use `layer.__call__` method instead.\n",
            "  return layer.apply(inputs)\n"
          ]
        }
      ]
    },
    {
      "cell_type": "markdown",
      "metadata": {
        "id": "9QyeX0PemRRA"
      },
      "source": [
        "# 8. Neural Network ( Graph Phase ) - Optimization "
      ],
      "id": "9QyeX0PemRRA"
    },
    {
      "cell_type": "code",
      "metadata": {
        "id": "a0b7d770",
        "colab": {
          "base_uri": "https://localhost:8080/"
        },
        "outputId": "416380c2-0760-434d-ed4c-d906a6ddc6c7"
      },
      "source": [
        "loss= tf.reduce_mean(tf.nn.softmax_cross_entropy_with_logits(labels=output_image, logits= H2,\n",
        "                                            name='LOSS'))\n",
        "adam=tf.train.GradientDescentOptimizer (\n",
        "    learning_rate=rl, name='Adam'\n",
        ").minimize(loss)\n",
        "accuracy=tf.math.reduce_mean(tf.cast(tf.equal(tf.math.argmax(H2, axis=1),tf.math.argmax(output_image, axis=1)), dtype='float32'))"
      ],
      "id": "a0b7d770",
      "execution_count": 10,
      "outputs": [
        {
          "output_type": "stream",
          "name": "stdout",
          "text": [
            "WARNING:tensorflow:From /usr/local/lib/python3.7/dist-packages/tensorflow/python/util/dispatch.py:1096: softmax_cross_entropy_with_logits (from tensorflow.python.ops.nn_ops) is deprecated and will be removed in a future version.\n",
            "Instructions for updating:\n",
            "\n",
            "Future major versions of TensorFlow will allow gradients to flow\n",
            "into the labels input on backprop by default.\n",
            "\n",
            "See `tf.nn.softmax_cross_entropy_with_logits_v2`.\n",
            "\n"
          ]
        }
      ]
    },
    {
      "cell_type": "code",
      "metadata": {
        "colab": {
          "base_uri": "https://localhost:8080/",
          "height": 283
        },
        "id": "-3KOX66wObl6",
        "outputId": "33e4f912-3d47-4267-f01b-fe76c09c06a5"
      },
      "source": [
        "plt.imshow(x_valid[0])"
      ],
      "id": "-3KOX66wObl6",
      "execution_count": 11,
      "outputs": [
        {
          "output_type": "execute_result",
          "data": {
            "text/plain": [
              "<matplotlib.image.AxesImage at 0x7f9129653590>"
            ]
          },
          "metadata": {},
          "execution_count": 11
        },
        {
          "output_type": "display_data",
          "data": {
            "image/png": "[encoded data removed]",
            "text/plain": [
              "<Figure size 432x288 with 1 Axes>"
            ]
          },
          "metadata": {
            "needs_background": "light"
          }
        }
      ]
    },
    {
      "cell_type": "markdown",
      "metadata": {
        "id": "Wpv4EfwuoEow"
      },
      "source": [
        "# 9. Neural Network ( Session Phase )  "
      ],
      "id": "Wpv4EfwuoEow"
    },
    {
      "cell_type": "code",
      "metadata": {
        "scrolled": true,
        "id": "a1deee0c",
        "colab": {
          "base_uri": "https://localhost:8080/"
        },
        "outputId": "01639e65-fca9-4cbf-ddca-3e10a11e5907"
      },
      "source": [
        "sess=tf.Session()\n",
        "sess.run(tf.global_variables_initializer())\n",
        "for epoch in range(1,num_epoch+1):\n",
        "    print('==================================================')\n",
        "    print('====== Epoch=%s =================================== ' %(epoch))\n",
        "    print('==================================================')\n",
        "    for i in range(math.floor(num_train/batchsize)):\n",
        "        f_train={input_image:x_train_shaffle[i*batchsize : (i+1)*batchsize] , \n",
        "                  output_image:y_train_shaffle[i*batchsize : (i+1)*batchsize] }\n",
        "        sess.run(adam, feed_dict=f_train)\n",
        "        if i%100==0:\n",
        "          L,A=sess.run([loss, accuracy], feed_dict=f_train)\n",
        "          print('iter {}: \\t Loss={:.2f} \\t Accuracy:%{:.2f}'.format(i, L, A*100))\n",
        "          \n",
        "    f_valid={input_image:x_valid , \n",
        "              output_image:y_valid_hot}\n",
        "    L,A=sess.run([loss, accuracy], feed_dict=f_valid)\n",
        "    print('--------------------------------------------------')\n",
        "    print('Epoch:{} \\t Loss_Valid:{:.2f} \\t Accuracy_Valid:%{:.2f}'.format(epoch, L, A*100))\n",
        "    print('--------------------------------------------------')"
      ],
      "id": "a1deee0c",
      "execution_count": 12,
      "outputs": [
        {
          "output_type": "stream",
          "name": "stdout",
          "text": [
            "==================================================\n",
            "====== Epoch=1 =================================== \n",
            "==================================================\n",
            "iter 0: \t Loss=2.29 \t Accuracy:%41.41\n",
            "iter 100: \t Loss=0.28 \t Accuracy:%94.53\n",
            "iter 200: \t Loss=0.29 \t Accuracy:%89.06\n",
            "iter 300: \t Loss=0.16 \t Accuracy:%96.88\n",
            "--------------------------------------------------\n",
            "Epoch:1 \t Loss_Valid:0.28 \t Accuracy_Valid:%91.95\n",
            "--------------------------------------------------\n",
            "==================================================\n",
            "====== Epoch=2 =================================== \n",
            "==================================================\n",
            "iter 0: \t Loss=0.17 \t Accuracy:%96.09\n",
            "iter 100: \t Loss=0.13 \t Accuracy:%96.88\n",
            "iter 200: \t Loss=0.19 \t Accuracy:%93.75\n",
            "iter 300: \t Loss=0.10 \t Accuracy:%98.44\n",
            "--------------------------------------------------\n",
            "Epoch:2 \t Loss_Valid:0.21 \t Accuracy_Valid:%94.19\n",
            "--------------------------------------------------\n",
            "==================================================\n",
            "====== Epoch=3 =================================== \n",
            "==================================================\n",
            "iter 0: \t Loss=0.11 \t Accuracy:%96.88\n",
            "iter 100: \t Loss=0.08 \t Accuracy:%97.66\n",
            "iter 200: \t Loss=0.13 \t Accuracy:%99.22\n",
            "iter 300: \t Loss=0.07 \t Accuracy:%98.44\n",
            "--------------------------------------------------\n",
            "Epoch:3 \t Loss_Valid:0.17 \t Accuracy_Valid:%95.17\n",
            "--------------------------------------------------\n",
            "==================================================\n",
            "====== Epoch=4 =================================== \n",
            "==================================================\n",
            "iter 0: \t Loss=0.07 \t Accuracy:%98.44\n",
            "iter 100: \t Loss=0.06 \t Accuracy:%99.22\n",
            "iter 200: \t Loss=0.10 \t Accuracy:%99.22\n",
            "iter 300: \t Loss=0.05 \t Accuracy:%99.22\n",
            "--------------------------------------------------\n",
            "Epoch:4 \t Loss_Valid:0.15 \t Accuracy_Valid:%95.95\n",
            "--------------------------------------------------\n",
            "==================================================\n",
            "====== Epoch=5 =================================== \n",
            "==================================================\n",
            "iter 0: \t Loss=0.05 \t Accuracy:%99.22\n",
            "iter 100: \t Loss=0.05 \t Accuracy:%99.22\n",
            "iter 200: \t Loss=0.08 \t Accuracy:%100.00\n",
            "iter 300: \t Loss=0.04 \t Accuracy:%99.22\n",
            "--------------------------------------------------\n",
            "Epoch:5 \t Loss_Valid:0.13 \t Accuracy_Valid:%96.22\n",
            "--------------------------------------------------\n",
            "==================================================\n",
            "====== Epoch=6 =================================== \n",
            "==================================================\n",
            "iter 0: \t Loss=0.04 \t Accuracy:%100.00\n",
            "iter 100: \t Loss=0.04 \t Accuracy:%100.00\n",
            "iter 200: \t Loss=0.06 \t Accuracy:%100.00\n",
            "iter 300: \t Loss=0.04 \t Accuracy:%99.22\n",
            "--------------------------------------------------\n",
            "Epoch:6 \t Loss_Valid:0.12 \t Accuracy_Valid:%96.59\n",
            "--------------------------------------------------\n",
            "==================================================\n",
            "====== Epoch=7 =================================== \n",
            "==================================================\n",
            "iter 0: \t Loss=0.03 \t Accuracy:%100.00\n",
            "iter 100: \t Loss=0.03 \t Accuracy:%100.00\n",
            "iter 200: \t Loss=0.05 \t Accuracy:%100.00\n",
            "iter 300: \t Loss=0.03 \t Accuracy:%99.22\n",
            "--------------------------------------------------\n",
            "Epoch:7 \t Loss_Valid:0.11 \t Accuracy_Valid:%96.77\n",
            "--------------------------------------------------\n",
            "==================================================\n",
            "====== Epoch=8 =================================== \n",
            "==================================================\n",
            "iter 0: \t Loss=0.03 \t Accuracy:%100.00\n",
            "iter 100: \t Loss=0.02 \t Accuracy:%100.00\n",
            "iter 200: \t Loss=0.05 \t Accuracy:%100.00\n",
            "iter 300: \t Loss=0.03 \t Accuracy:%99.22\n",
            "--------------------------------------------------\n",
            "Epoch:8 \t Loss_Valid:0.11 \t Accuracy_Valid:%96.97\n",
            "--------------------------------------------------\n",
            "==================================================\n",
            "====== Epoch=9 =================================== \n",
            "==================================================\n",
            "iter 0: \t Loss=0.03 \t Accuracy:%100.00\n",
            "iter 100: \t Loss=0.02 \t Accuracy:%100.00\n",
            "iter 200: \t Loss=0.04 \t Accuracy:%100.00\n",
            "iter 300: \t Loss=0.03 \t Accuracy:%99.22\n",
            "--------------------------------------------------\n",
            "Epoch:9 \t Loss_Valid:0.10 \t Accuracy_Valid:%97.13\n",
            "--------------------------------------------------\n",
            "==================================================\n",
            "====== Epoch=10 =================================== \n",
            "==================================================\n",
            "iter 0: \t Loss=0.02 \t Accuracy:%100.00\n",
            "iter 100: \t Loss=0.02 \t Accuracy:%100.00\n",
            "iter 200: \t Loss=0.04 \t Accuracy:%100.00\n",
            "iter 300: \t Loss=0.02 \t Accuracy:%99.22\n",
            "--------------------------------------------------\n",
            "Epoch:10 \t Loss_Valid:0.10 \t Accuracy_Valid:%97.28\n",
            "--------------------------------------------------\n",
            "==================================================\n",
            "====== Epoch=11 =================================== \n",
            "==================================================\n",
            "iter 0: \t Loss=0.02 \t Accuracy:%100.00\n",
            "iter 100: \t Loss=0.02 \t Accuracy:%100.00\n",
            "iter 200: \t Loss=0.03 \t Accuracy:%100.00\n",
            "iter 300: \t Loss=0.02 \t Accuracy:%100.00\n",
            "--------------------------------------------------\n",
            "Epoch:11 \t Loss_Valid:0.10 \t Accuracy_Valid:%97.33\n",
            "--------------------------------------------------\n",
            "==================================================\n",
            "====== Epoch=12 =================================== \n",
            "==================================================\n",
            "iter 0: \t Loss=0.02 \t Accuracy:%100.00\n",
            "iter 100: \t Loss=0.01 \t Accuracy:%100.00\n",
            "iter 200: \t Loss=0.03 \t Accuracy:%100.00\n",
            "iter 300: \t Loss=0.02 \t Accuracy:%100.00\n",
            "--------------------------------------------------\n",
            "Epoch:12 \t Loss_Valid:0.09 \t Accuracy_Valid:%97.39\n",
            "--------------------------------------------------\n",
            "==================================================\n",
            "====== Epoch=13 =================================== \n",
            "==================================================\n",
            "iter 0: \t Loss=0.02 \t Accuracy:%100.00\n",
            "iter 100: \t Loss=0.01 \t Accuracy:%100.00\n",
            "iter 200: \t Loss=0.03 \t Accuracy:%100.00\n",
            "iter 300: \t Loss=0.02 \t Accuracy:%100.00\n",
            "--------------------------------------------------\n",
            "Epoch:13 \t Loss_Valid:0.09 \t Accuracy_Valid:%97.46\n",
            "--------------------------------------------------\n",
            "==================================================\n",
            "====== Epoch=14 =================================== \n",
            "==================================================\n",
            "iter 0: \t Loss=0.01 \t Accuracy:%100.00\n",
            "iter 100: \t Loss=0.01 \t Accuracy:%100.00\n",
            "iter 200: \t Loss=0.02 \t Accuracy:%100.00\n",
            "iter 300: \t Loss=0.01 \t Accuracy:%100.00\n",
            "--------------------------------------------------\n",
            "Epoch:14 \t Loss_Valid:0.09 \t Accuracy_Valid:%97.48\n",
            "--------------------------------------------------\n",
            "==================================================\n",
            "====== Epoch=15 =================================== \n",
            "==================================================\n",
            "iter 0: \t Loss=0.01 \t Accuracy:%100.00\n",
            "iter 100: \t Loss=0.01 \t Accuracy:%100.00\n",
            "iter 200: \t Loss=0.02 \t Accuracy:%100.00\n",
            "iter 300: \t Loss=0.01 \t Accuracy:%100.00\n",
            "--------------------------------------------------\n",
            "Epoch:15 \t Loss_Valid:0.09 \t Accuracy_Valid:%97.49\n",
            "--------------------------------------------------\n",
            "==================================================\n",
            "====== Epoch=16 =================================== \n",
            "==================================================\n",
            "iter 0: \t Loss=0.01 \t Accuracy:%100.00\n",
            "iter 100: \t Loss=0.01 \t Accuracy:%100.00\n",
            "iter 200: \t Loss=0.02 \t Accuracy:%100.00\n",
            "iter 300: \t Loss=0.01 \t Accuracy:%100.00\n",
            "--------------------------------------------------\n",
            "Epoch:16 \t Loss_Valid:0.09 \t Accuracy_Valid:%97.49\n",
            "--------------------------------------------------\n",
            "==================================================\n",
            "====== Epoch=17 =================================== \n",
            "==================================================\n",
            "iter 0: \t Loss=0.01 \t Accuracy:%100.00\n",
            "iter 100: \t Loss=0.01 \t Accuracy:%100.00\n",
            "iter 200: \t Loss=0.02 \t Accuracy:%100.00\n",
            "iter 300: \t Loss=0.01 \t Accuracy:%100.00\n",
            "--------------------------------------------------\n",
            "Epoch:17 \t Loss_Valid:0.09 \t Accuracy_Valid:%97.54\n",
            "--------------------------------------------------\n",
            "==================================================\n",
            "====== Epoch=18 =================================== \n",
            "==================================================\n",
            "iter 0: \t Loss=0.01 \t Accuracy:%100.00\n",
            "iter 100: \t Loss=0.01 \t Accuracy:%100.00\n",
            "iter 200: \t Loss=0.02 \t Accuracy:%100.00\n",
            "iter 300: \t Loss=0.01 \t Accuracy:%100.00\n",
            "--------------------------------------------------\n",
            "Epoch:18 \t Loss_Valid:0.09 \t Accuracy_Valid:%97.55\n",
            "--------------------------------------------------\n",
            "==================================================\n",
            "====== Epoch=19 =================================== \n",
            "==================================================\n",
            "iter 0: \t Loss=0.01 \t Accuracy:%100.00\n",
            "iter 100: \t Loss=0.01 \t Accuracy:%100.00\n",
            "iter 200: \t Loss=0.02 \t Accuracy:%100.00\n",
            "iter 300: \t Loss=0.01 \t Accuracy:%100.00\n",
            "--------------------------------------------------\n",
            "Epoch:19 \t Loss_Valid:0.09 \t Accuracy_Valid:%97.57\n",
            "--------------------------------------------------\n",
            "==================================================\n",
            "====== Epoch=20 =================================== \n",
            "==================================================\n",
            "iter 0: \t Loss=0.01 \t Accuracy:%100.00\n",
            "iter 100: \t Loss=0.01 \t Accuracy:%100.00\n",
            "iter 200: \t Loss=0.01 \t Accuracy:%100.00\n",
            "iter 300: \t Loss=0.01 \t Accuracy:%100.00\n",
            "--------------------------------------------------\n",
            "Epoch:20 \t Loss_Valid:0.09 \t Accuracy_Valid:%97.56\n",
            "--------------------------------------------------\n"
          ]
        }
      ]
    },
    {
      "cell_type": "markdown",
      "metadata": {
        "id": "bn4Jmz7snuCl"
      },
      "source": [
        "# =======================================================================\n",
        "# **THANKS** \n",
        "# ======================================================================="
      ],
      "id": "bn4Jmz7snuCl"
    },
    {
      "cell_type": "code",
      "metadata": {
        "colab": {
          "base_uri": "https://localhost:8080/",
          "height": 283
        },
        "id": "zXB9JdINNqJL",
        "outputId": "7a4fcf76-02e6-4379-99c5-1723fede2411"
      },
      "source": [
        "plt.imshow(x_test[0])"
      ],
      "id": "zXB9JdINNqJL",
      "execution_count": 13,
      "outputs": [
        {
          "output_type": "execute_result",
          "data": {
            "text/plain": [
              "<matplotlib.image.AxesImage at 0x7f91291b5bd0>"
            ]
          },
          "metadata": {},
          "execution_count": 13
        },
        {
          "output_type": "display_data",
          "data": {
            "image/png": "[encoded data removed]",
            "text/plain": [
              "<Figure size 432x288 with 1 Axes>"
            ]
          },
          "metadata": {
            "needs_background": "light"
          }
        }
      ]
    },
    {
      "cell_type": "code",
      "metadata": {
        "colab": {
          "base_uri": "https://localhost:8080/"
        },
        "id": "kBHgOuOLN-0z",
        "outputId": "f91bf04c-1a3d-4555-aa9f-d7919b005727"
      },
      "source": [
        "x_test[0].max()"
      ],
      "id": "kBHgOuOLN-0z",
      "execution_count": 14,
      "outputs": [
        {
          "output_type": "execute_result",
          "data": {
            "text/plain": [
              "255"
            ]
          },
          "metadata": {},
          "execution_count": 14
        }
      ]
    },
    {
      "cell_type": "code",
      "metadata": {
        "colab": {
          "base_uri": "https://localhost:8080/"
        },
        "id": "CrKhWvaqHmoX",
        "outputId": "5fa8cc65-a28e-46be-a415-e20a263bd462"
      },
      "source": [
        "(sess.run(FC1, feed_dict={input_image : x_test[0:1]})).shape"
      ],
      "id": "CrKhWvaqHmoX",
      "execution_count": 15,
      "outputs": [
        {
          "output_type": "execute_result",
          "data": {
            "text/plain": [
              "(1, 256)"
            ]
          },
          "metadata": {},
          "execution_count": 15
        }
      ]
    },
    {
      "cell_type": "code",
      "metadata": {
        "colab": {
          "base_uri": "https://localhost:8080/",
          "height": 265
        },
        "id": "yeVUXy6CWewo",
        "outputId": "0d2fad8c-5891-4ead-afc8-4b848c20f60b"
      },
      "source": [
        "plt.imshow(x_test[0], cmap='gray', vmin=0, vmax=255)\n",
        "plt.show()"
      ],
      "id": "yeVUXy6CWewo",
      "execution_count": 22,
      "outputs": [
        {
          "output_type": "display_data",
          "data": {
            "image/png": "[encoded data removed]",
            "text/plain": [
              "<Figure size 432x288 with 1 Axes>"
            ]
          },
          "metadata": {
            "needs_background": "light"
          }
        }
      ]
    },
    {
      "cell_type": "code",
      "metadata": {
        "colab": {
          "base_uri": "https://localhost:8080/"
        },
        "id": "43ZNdZViaYad",
        "outputId": "40ddd3f6-080d-414d-fd8d-5715cef6dd05"
      },
      "source": [
        "np.argwhere(x_test[0]==0).shape[0] # number of zeros"
      ],
      "id": "43ZNdZViaYad",
      "execution_count": 36,
      "outputs": [
        {
          "output_type": "execute_result",
          "data": {
            "text/plain": [
              "668"
            ]
          },
          "metadata": {},
          "execution_count": 36
        }
      ]
    },
    {
      "cell_type": "code",
      "metadata": {
        "colab": {
          "base_uri": "https://localhost:8080/"
        },
        "id": "xcbNMOcYa6EN",
        "outputId": "a250feb3-b0d5-4792-edb8-9397ef6993e1"
      },
      "source": [
        "np.sum(x_test[0]) #intensity "
      ],
      "id": "xcbNMOcYa6EN",
      "execution_count": 38,
      "outputs": [
        {
          "output_type": "execute_result",
          "data": {
            "text/plain": [
              "18454"
            ]
          },
          "metadata": {},
          "execution_count": 38
        }
      ]
    },
    {
      "cell_type": "code",
      "metadata": {
        "colab": {
          "base_uri": "https://localhost:8080/",
          "height": 265
        },
        "id": "xuCE4nRnIEiy",
        "outputId": "d4258895-cc75-47a7-9130-4b0cf5f156a4"
      },
      "source": [
        "O=((sess.run(FC1, feed_dict={input_image : x_test[0:1]})).reshape((16,16)))\n",
        "\n",
        "plt.imshow(O, cmap='gray', vmin=0, vmax=255)\n",
        "plt.show()"
      ],
      "id": "xuCE4nRnIEiy",
      "execution_count": 31,
      "outputs": [
        {
          "output_type": "display_data",
          "data": {
            "image/png": "[encoded data removed]",
            "text/plain": [
              "<Figure size 432x288 with 1 Axes>"
            ]
          },
          "metadata": {
            "needs_background": "light"
          }
        }
      ]
    },
    {
      "cell_type": "code",
      "metadata": {
        "colab": {
          "base_uri": "https://localhost:8080/"
        },
        "id": "Gvnij8lQWA6P",
        "outputId": "83fa654e-f8c3-4cca-c154-0015546f779e"
      },
      "source": [
        "np.argwhere(O==0).shape[0] # number of zeros"
      ],
      "id": "Gvnij8lQWA6P",
      "execution_count": 37,
      "outputs": [
        {
          "output_type": "execute_result",
          "data": {
            "text/plain": [
              "111"
            ]
          },
          "metadata": {},
          "execution_count": 37
        }
      ]
    },
    {
      "cell_type": "code",
      "metadata": {
        "colab": {
          "base_uri": "https://localhost:8080/"
        },
        "id": "a3hkLiocY9ED",
        "outputId": "5eef2769-a150-4632-9ce0-bb73dc6ff11d"
      },
      "source": [
        "np.sum(O)"
      ],
      "id": "a3hkLiocY9ED",
      "execution_count": 39,
      "outputs": [
        {
          "output_type": "execute_result",
          "data": {
            "text/plain": [
              "1634.1288"
            ]
          },
          "metadata": {},
          "execution_count": 39
        }
      ]
    },
    {
      "cell_type": "code",
      "metadata": {
        "id": "mHf6NRWZbKoq"
      },
      "source": [
        ""
      ],
      "id": "mHf6NRWZbKoq",
      "execution_count": null,
      "outputs": []
    }
  ]
}